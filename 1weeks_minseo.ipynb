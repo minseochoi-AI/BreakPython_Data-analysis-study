{
 "cells": [
  {
   "cell_type": "code",
   "execution_count": 2,
   "id": "a0f0aa52",
   "metadata": {},
   "outputs": [
    {
     "name": "stdout",
     "output_type": "stream",
     "text": [
      "홍길동씨의 점수평균은 53.333333333333336점 입니다.\n"
     ]
    }
   ],
   "source": [
    "a=50\n",
    "b=80\n",
    "c=30\n",
    "# 변수선언\n",
    "\n",
    "print( f\"홍길동씨의 점수평균은 {int(a+b+c)/3}점 입니다.\")\n",
    "# 문자열 포멧, 연산을 통해 평균출력"
   ]
  },
  {
   "cell_type": "code",
   "execution_count": 2,
   "id": "144dea9d",
   "metadata": {},
   "outputs": [
    {
     "name": "stdout",
     "output_type": "stream",
     "text": [
      "짝수입니다\n"
     ]
    }
   ],
   "source": [
    "k=40928570\n",
    "#변수선언 \n",
    "\n",
    "if k%2==0:\n",
    "    print(\"짝수입니다\")\n",
    "else:\n",
    "    print(\"홀수입니다\")\n",
    "# 분기문을 사용해 홀짝 판별 및 출력"
   ]
  },
  {
   "cell_type": "code",
   "execution_count": 3,
   "id": "b84e66b8",
   "metadata": {},
   "outputs": [
    {
     "data": {
      "text/plain": [
       "['국어', '수학', '영어', '프로그래밍']"
      ]
     },
     "execution_count": 3,
     "metadata": {},
     "output_type": "execute_result"
    }
   ],
   "source": [
    "q=\"국어:수학:영어:프로그래밍\"\n",
    "# 변수선언\n",
    "\n",
    "w=q.split(\":\")\n",
    "# split 함수를 사용해 :를 기준으로 문자열을 분해함\n",
    "\n",
    "w\n",
    "# 출력"
   ]
  },
  {
   "cell_type": "code",
   "execution_count": 4,
   "id": "2c673437",
   "metadata": {},
   "outputs": [
    {
     "data": {
      "text/plain": [
       "['국어', '수학', '영어', '프로그래밍']"
      ]
     },
     "execution_count": 4,
     "metadata": {},
     "output_type": "execute_result"
    }
   ],
   "source": [
    "q=\"국어:수학:영어:프로그래밍\"\n",
    "# 변수선언\n",
    "\n",
    "w=q.split(\":\")\n",
    "# split 함수를 사용해 :를 기준으로 문자열을 분해함\n",
    "\n",
    "w\n",
    "# 출력"
   ]
  },
  {
   "cell_type": "code",
   "execution_count": 5,
   "id": "18a2b92f",
   "metadata": {},
   "outputs": [
    {
     "data": {
      "text/plain": [
       "'파이썬은 정말 편하다'"
      ]
     },
     "execution_count": 5,
     "metadata": {},
     "output_type": "execute_result"
    }
   ],
   "source": [
    "r=[\"파이썬은\",\"정말\",\"편하다\"]\n",
    "# 변수선언\n",
    "\n",
    "j=\" \".join(r)\n",
    "# join함수를 사용해 문자열을 합성후 j에 저장\n",
    "\n",
    "j\n",
    "# 출력"
   ]
  },
  {
   "cell_type": "code",
   "execution_count": 6,
   "id": "f9c3ad9a",
   "metadata": {},
   "outputs": [
    {
     "data": {
      "text/plain": [
       "[1, 3, 4, 5, 10, 50, 410]"
      ]
     },
     "execution_count": 6,
     "metadata": {},
     "output_type": "execute_result"
    }
   ],
   "source": [
    "t=[1,50,410,10,3,4,5]\n",
    "# 변수선언\n",
    "\n",
    "t.sort()\n",
    "# sort함수를 사용해 오름차순으로 리스트를 정리\n",
    "\n",
    "t\n",
    "# 출력"
   ]
  },
  {
   "cell_type": "code",
   "execution_count": 7,
   "id": "892620bb",
   "metadata": {},
   "outputs": [
    {
     "data": {
      "text/plain": [
       "'I love python'"
      ]
     },
     "execution_count": 7,
     "metadata": {},
     "output_type": "execute_result"
    }
   ],
   "source": [
    "y=\" I love python \"\n",
    "# 변수선언\n",
    "\n",
    "i=y.strip()\n",
    "# strip함수를 사용해 양쪽의 공백을 제거후 i에 저장\n",
    "\n",
    "i\n",
    "# 출력"
   ]
  },
  {
   "cell_type": "code",
   "execution_count": 8,
   "id": "ef58144a",
   "metadata": {},
   "outputs": [
    {
     "data": {
      "text/plain": [
       "5050"
      ]
     },
     "execution_count": 8,
     "metadata": {},
     "output_type": "execute_result"
    }
   ],
   "source": [
    "u=0\n",
    "# 변수선언\n",
    "\n",
    "for i in range(1,101):\n",
    "    u+=i\n",
    "# for문을 사용해 u에 1~100의 숫자를 모두 더함    \n",
    "\n",
    "u"
   ]
  },
  {
   "cell_type": "code",
   "execution_count": 9,
   "id": "3eaebcef",
   "metadata": {},
   "outputs": [
    {
     "data": {
      "text/plain": [
       "5050"
      ]
     },
     "execution_count": 9,
     "metadata": {},
     "output_type": "execute_result"
    }
   ],
   "source": [
    "o=1\n",
    "p=0\n",
    "# while문의 조건식에 사용될 o변수와 실제 1~100까지의 값을 더할 p변수를 선언\n",
    "\n",
    "while o<=100:\n",
    "    p+=o\n",
    "    o+=1\n",
    "# while문을 사용해 o변수는 1부터100까지 값을 증가시키고 p변수에는 o변수가 가진 값을 순차적으로 더함 \n",
    "    \n",
    "p\n",
    "# 출력"
   ]
  },
  {
   "cell_type": "code",
   "execution_count": 10,
   "id": "4a421662",
   "metadata": {},
   "outputs": [
    {
     "data": {
      "text/plain": [
       "1684"
      ]
     },
     "execution_count": 10,
     "metadata": {},
     "output_type": "execute_result"
    }
   ],
   "source": [
    "a=1\n",
    "# 1~100의 수중에서 3의 배수가 아닌 1을 변수의 초기값으로 설정\n",
    "\n",
    "for i in range(3,101,3):\n",
    "  a+=i \n",
    "# 3~100중 3의 배수만이 a에 합산되도록 for문 생성 \n",
    "\n",
    "a\n",
    "# 출력"
   ]
  },
  {
   "cell_type": "code",
   "execution_count": 11,
   "id": "2ad07c5e",
   "metadata": {},
   "outputs": [
    {
     "data": {
      "text/plain": [
       "79.0"
      ]
     },
     "execution_count": 11,
     "metadata": {},
     "output_type": "execute_result"
    }
   ],
   "source": [
    "sum=0\n",
    "# 중간고사 점수를 합칠 변수선언\n",
    "\n",
    "a=[70,60,55,75,95,90,80,80,85,100]\n",
    "# A반의 중간고사 점수 리스트\n",
    "\n",
    "for i in a:\n",
    "    sum+=i\n",
    "# for문을 통해 리스트에 담긴 모든 값을 sum에 더함\n",
    "    \n",
    "mean=sum/len(a)\n",
    "#  len함수와 나누기로 평균 구하기\n",
    "\n",
    "mean\n",
    "# 출력"
   ]
  },
  {
   "cell_type": "code",
   "execution_count": 12,
   "id": "443aa24f",
   "metadata": {},
   "outputs": [
    {
     "data": {
      "text/plain": [
       "[2, 6, 10, 40, 90, 100, 2020]"
      ]
     },
     "execution_count": 12,
     "metadata": {},
     "output_type": "execute_result"
    }
   ],
   "source": [
    "b=[1,3,5,40,90,100,2020]\n",
    "# 리스트 생성\n",
    "\n",
    "k=0\n",
    "# for문 안에서 리스트의 인덱스 순서를 지정해줄 k변수 생성\n",
    "\n",
    "for i in b:\n",
    "    if i%2==1:\n",
    "        b[k]=b[k]*2\n",
    "        k+=1\n",
    "#  for문으로 b리스트 안의 값들을 하나싹 뺴서 i에 가져온뒤 if문으로 홀수인지 판별하여 홀수이면 리스트 값에 2를 곱함       \n",
    "\n",
    "b\n",
    "# 출력"
   ]
  },
  {
   "cell_type": "code",
   "execution_count": 13,
   "id": "5583169f",
   "metadata": {},
   "outputs": [
    {
     "name": "stdout",
     "output_type": "stream",
     "text": [
      "\n",
      "*\n",
      "**\n",
      "***\n",
      "****\n",
      "*****"
     ]
    }
   ],
   "source": [
    "for i in range(2,7):\n",
    "    print(\"\")\n",
    "#  첫 번쨰 for문에서 i변수 안에 2~7까지의 숫자를 넣어 줄바꿈이 5번 실행되도록 한다\n",
    "\n",
    "    for j in range(1,i):\n",
    "        print(\"*\",end='')\n",
    "#  두 번째 for문에서 1~변수 i가 가진 숫자만큼 반복되게 하여 *를 출력하도록 한다. 줄의 횟수만큼 *이 출력되도록 줄바꿈을 없애는 end사용\n"
   ]
  },
  {
   "cell_type": "code",
   "execution_count": 14,
   "id": "d7981a65",
   "metadata": {},
   "outputs": [
    {
     "name": "stdout",
     "output_type": "stream",
     "text": [
      "점수입력\n",
      "숫자만 입력하세요\n"
     ]
    }
   ],
   "source": [
    "a=input(\"점수입력\")\n",
    "#  입력을 받을 변수선언\n",
    "if  a.isdigit():\n",
    "#  a라는 문자열이 모두 숫자로만 이루어져 있는지 판별 \n",
    "\n",
    "    a=int(a)\n",
    "#  a의 타입을 문자열형에서 정수형으로 변환\n",
    "    if a>100:\n",
    "        print(\"100점을 넘어선 잘못된 점수입니다.\")\n",
    "#  100을 초과한 정수 입력시 오류메세지 출력\n",
    "    elif a > 79 | a < 101:\n",
    "        print(\"A\")\n",
    "# a의 갑이 80이상 100미만일 경우 A출력\n",
    "    elif a > 49:\n",
    "        print(\"B\")\n",
    "# a의 갑이 50이상일 경우 B출력\n",
    "    elif a > 29:\n",
    "        print(\"C\")\n",
    "# a의 갑이 30이상일 경우 B출력\n",
    "    elif a < 30:\n",
    "        print(\"F\")\n",
    "# a의 갑이 29 미만일 경우 A출력\n",
    "\n",
    "else:\n",
    "    print(\"숫자만 입력하세요\")\n",
    "#  a라는 문자열이 모두 숫자로만 이루어져 있지 않을시 숫자만 입력하라는 메세지 출력\n"
   ]
  },
  {
   "cell_type": "code",
   "execution_count": 15,
   "id": "4133e618",
   "metadata": {},
   "outputs": [
    {
     "name": "stdout",
     "output_type": "stream",
     "text": [
      "숫자입력\n",
      "정수만 입력하세요\n"
     ]
    }
   ],
   "source": [
    "def 홀짝구분(a):\n",
    "# 함수정의\n",
    "    a=input(\"숫자입력\")\n",
    "    # 변수선언\n",
    "    if  a.isdigit():\n",
    "    # a가 모두 정수로 이루어진 문자열인지 판별\n",
    "        a=int(a)\n",
    "    # a의 타입을 문자열에서 정수형으로 변환\n",
    "        if a%2==0:\n",
    "            return True\n",
    "    # a를 2로 나눴을때 몫이 0이면 짝수 True 반환\n",
    "        else:\n",
    "            return False\n",
    "    #  를 2로 나눴을때 몫이 0아니면 홀수 False 반환\n",
    "    else:\n",
    "        print(\"정수만 입력하세요\")\n",
    "\n",
    "홀짝구분(a)\n",
    "# 함수호출"
   ]
  },
  {
   "cell_type": "code",
   "execution_count": 22,
   "id": "4108539b",
   "metadata": {},
   "outputs": [
    {
     "name": "stdout",
     "output_type": "stream",
     "text": [
      "주민번호를 입력하세요020425-1111111\n",
      "02년생, 남성입니다\n"
     ]
    }
   ],
   "source": [
    "jumin=input(\"주민번호를 입력하세요\")\n",
    "#  주민번호 정보를 받을 변수선언\n",
    "if  jumin[6]==\"-\":\n",
    "#  주민번호 7번쨰자리가 -인지 판별\n",
    "    jumin=jumin.replace(\"-\",\"\")\n",
    "#  맞다면 7번쨰 자리의 -를 제거\n",
    "    if jumin.isdigit():\n",
    "#  주민번호가 모두 숫자로 이루어져있는지 판별\n",
    "        if (jumin[6]==\"3\") | (jumin[6]==\"1\"):\n",
    "#  주민번호 뒷자리 첫 숫자가 1 또는 3일경우 \n",
    "            print(f\"{jumin[:2]}년생, 남성입니다\")\n",
    "# 생년정보와 남성임을 출력\n",
    "        elif (jumin[6]==\"4\") | (jumin[6]==\"2\"):\n",
    "#  주민번호 뒷자리 첫 숫자가 2 또는 4일경우 \n",
    "            print(f\"{jumin[:2]}년생, 여성입니다\")\n",
    "# 생년정보와 여성임을 출력\n",
    "        else:\n",
    "# 주민번호 뒷자리 첫 숫자에 남녀정보 1,2,3,4이왜에 다른 숫자가 있는경우 \n",
    "            print(\"주민번호의 남녀구분숫자가 잘못되었습니다.\")\n",
    "    else:\n",
    "# 주민번호 뒷자리 정보가 남성,여성 정보에 모두 맞지 않는 경우\n",
    "        print(\"주민번호 앞 또는 뒷자리에 정수가 아닌 문자가 포함되어 있습니다.\")\n",
    "#  문자포함 오류 표시\n",
    "else:\n",
    "#  주민번호 7번쨰자리가 -가 아닐경우\n",
    "    print(\"앞자리(6개)-뒷자리(6개) 형태로 입력하세요 7번째 자리는 반드시 \"\"-\"\" 기호가 들어가야 합니다\")\n",
    "#  오류표시"
   ]
  },
  {
   "cell_type": "code",
   "execution_count": null,
   "id": "ffa9cf9a",
   "metadata": {},
   "outputs": [],
   "source": [
    "\n",
    "def 더하기(a,b):\n",
    "# 함수선언\n",
    "    return a+b\n",
    " # 더한 값 반환\n",
    "def 빼기(a,b):\n",
    "# 함수선언\n",
    "    return a-b\n",
    "# 뺀값 반환\n",
    "def 곱하기(a,b):\n",
    "# 함수선언\n",
    "    return a*b\n",
    "# 곱한값 반환\n",
    "def 나누기(a,b):\n",
    "# 함수선언\n",
    "    if b!=0:\n",
    "# b에 들어온 값이 0이 아닐시\n",
    "        return a/b\n",
    "# 나눈값 반환\n",
    "    else:\n",
    "# b에 들어온 값이 0일시\n",
    "        print(\"0으로 숫자를 나눌 수 없습니다\")\n",
    "# 오류메세지 출력\n",
    "def 나머지(a,b):\n",
    "# 함수선언\n",
    "    if b!=0:\n",
    "# b에 들어온 값이 0이 아닐시    \n",
    "        return a%b\n",
    "# 나머지 반환\n",
    "    else:\n",
    "# b에 들어온 값이 0일시\n",
    "        print(\"0으로 숫자를 나눌 수 없습니다\")\n",
    "# 오류메세지 출력\n",
    "\n",
    "더하기(3,2)\n",
    "        "
   ]
  },
  {
   "cell_type": "code",
   "execution_count": null,
   "id": "7e770019",
   "metadata": {},
   "outputs": [],
   "source": [
    "def money(a):\n",
    "# 함수를 정의함  \n",
    "    j=[0,0,0,0,0,0]\n",
    "# 돈 단위마다 거스름 갯수를 저장할 배열 생성\n",
    "    k=[5000,1000,500,100,50,10]\n",
    "# 돈 단위 배열 생성\n",
    "    for i in range(0,6):\n",
    "# 6가지의 각 돈 단위마다 거스름이 가능하도록 6번 반복되는 for문생성\n",
    "        b=a-(a%k[i])\n",
    "# 입력받은 값 - 입력받은 값을 돈 단위로 나눈 나머지를 계산하면 원래 입력받은 값에서 돈 단위로 얼마를 거슬렀는지 알 수 있음\n",
    "# 첫 번쨰 반복의 경우 6890-(6890%5000=1890)=6890-1890=5000=b값을 저장 한 뒤\n",
    "        j[i]=int(b/k[i])\n",
    "# j 값에 i번쨰 인덱스에 b가 가진 값/돈의 단위(k[i])를 하여 저장, 소숫점 없애기 위해 정수로 형변환\n",
    "# j의 0번쨰 인덱스 j[0]=b(5000)/k[0](5000)=1\n",
    "        a%=k[i]\n",
    "# 연산후 a값을 거스르고 남은 값으로 바꿈\n",
    "        print(f\"{k[i]}원:{j[i]}개\")\n",
    "# 단위별 거스른 갯수 출력\n",
    "\n",
    "money(6890)\n",
    "# 함수호출\n"
   ]
  },
  {
   "cell_type": "code",
   "execution_count": null,
   "id": "543a851f",
   "metadata": {},
   "outputs": [],
   "source": [
    "import math\n",
    "# math모듈 임포트\n",
    "\n",
    "def Calculation(a,b,c):\n",
    "# 함수정의\n",
    "    print(f\"x1={(-b+math.sqrt(b**2-4*a*c))/2*a}, x2={(-b-math.sqrt(b**2-4*a*c))/2*a}\")\n",
    "# 이차방정식의 근의 공식이  (-b+-루트 b제곱 -4ac)/2a이므로 \n",
    "#  함수를 호출 할 시 1.(-b+ sqrt 함수를 사용해  루트 b제곱 -4ac를 구한 값)/2a=x1\n",
    "#                   2.(-b- sqrt 함수를 사용해  루트 b제곱 -4ac를 구한 값)/2a=x2\n",
    "    \n",
    "\n",
    "print(\"이차방정식 ax**2+bx-c\")\n",
    "a=input(\"ax**2에 들어갈 a값을 입력하세요\") \n",
    "b=input(\"+bx에 들어갈 b값을 입력하세요\")\n",
    "c=input(\"-c에 들어갈 c값을 입력하세요\") \n",
    "# 이차방정식에 들어갈 a,b,c값 input\n",
    "if (a.isdigit()) | (b.isdigit()) |(c.isdigit()):\n",
    "#  a,b,c값이 모두 정수알 경우에 \n",
    "    a=int(a)\n",
    "    b=int(b)\n",
    "    c=int(c)\n",
    "# a,d,c값 정수로 형 변환\n",
    "    Calculation(a,b,c)\n",
    "# 함수호출\n",
    "else:\n",
    "    print(\"정수만 입력 가능합니다.\")"
   ]
  }
 ],
 "metadata": {
  "kernelspec": {
   "display_name": "Python 3",
   "language": "python",
   "name": "python3"
  },
  "language_info": {
   "codemirror_mode": {
    "name": "ipython",
    "version": 3
   },
   "file_extension": ".py",
   "mimetype": "text/x-python",
   "name": "python",
   "nbconvert_exporter": "python",
   "pygments_lexer": "ipython3",
   "version": "3.8.8"
  }
 },
 "nbformat": 4,
 "nbformat_minor": 5
}
